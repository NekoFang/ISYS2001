{
  "nbformat": 4,
  "nbformat_minor": 0,
  "metadata": {
    "colab": {
      "provenance": [],
      "authorship_tag": "ABX9TyOn3OBDg/F2bgQrXnxSs9a8",
      "include_colab_link": true
    },
    "kernelspec": {
      "name": "python3",
      "display_name": "Python 3"
    },
    "language_info": {
      "name": "python"
    }
  },
  "cells": [
    {
      "cell_type": "markdown",
      "metadata": {
        "id": "view-in-github",
        "colab_type": "text"
      },
      "source": [
        "<a href=\"https://colab.research.google.com/github/NekoFang/ISYS2001/blob/main/ISYS2001_Week_1.ipynb\" target=\"_parent\"><img src=\"https://colab.research.google.com/assets/colab-badge.svg\" alt=\"Open In Colab\"/></a>"
      ]
    },
    {
      "cell_type": "code",
      "execution_count": 15,
      "metadata": {
        "colab": {
          "base_uri": "https://localhost:8080/"
        },
        "id": "VQYmVAuHbBMu",
        "outputId": "5df59afc-f477-4b53-ab76-7a88780b3253"
      },
      "outputs": [
        {
          "output_type": "stream",
          "name": "stdout",
          "text": [
            "What is your name?\n",
            "j\n",
            "What is your favourite colour?\n",
            "b\n",
            "What is your favourite hobby?\n",
            "g\n",
            "Hi j, your favourite colour is b and your favourite hobby is g, nice to meet you.\n"
          ]
        }
      ],
      "source": [
        "# Get user to input their name\n",
        "print(\"What is your name?\")\n",
        "username =  input()\n",
        "\n",
        "# Get user to input their favourite colour\n",
        "print(\"What is your favourite colour?\")\n",
        "fav_colour = input()\n",
        "\n",
        "# Get user to input their favourite hobby\n",
        "print(\"What is your favourite hobby?\")\n",
        "fav_hobby = input()\n",
        "\n",
        "# Output a personalised greeting to the user\n",
        "print(\"Hi\", username + \", your favourite colour is\", fav_colour, \"and your favourite hobby is\", fav_hobby + \", nice to meet you.\")"
      ]
    }
  ]
}