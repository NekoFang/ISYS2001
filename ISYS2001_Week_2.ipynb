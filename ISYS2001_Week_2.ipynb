{
  "nbformat": 4,
  "nbformat_minor": 0,
  "metadata": {
    "colab": {
      "provenance": [],
      "name": "ISYS2001 Week 2.ipynb",
      "authorship_tag": "ABX9TyODXAIB9qX7oiatxcH0QtHQ",
      "include_colab_link": true
    },
    "kernelspec": {
      "name": "python3",
      "display_name": "Python 3"
    },
    "language_info": {
      "name": "python"
    }
  },
  "cells": [
    {
      "cell_type": "markdown",
      "metadata": {
        "id": "view-in-github",
        "colab_type": "text"
      },
      "source": [
        "<a href=\"https://colab.research.google.com/github/NekoFang/ISYS2001/blob/main/ISYS2001_Week_2.ipynb\" target=\"_parent\"><img src=\"https://colab.research.google.com/assets/colab-badge.svg\" alt=\"Open In Colab\"/></a>"
      ]
    },
    {
      "cell_type": "code",
      "execution_count": 2,
      "metadata": {
        "id": "QnZR9yFYPv31",
        "colab": {
          "base_uri": "https://localhost:8080/"
        },
        "outputId": "479fdd19-2c31-4b69-f6ce-8f4c7bd04c96"
      },
      "outputs": [
        {
          "output_type": "stream",
          "name": "stdout",
          "text": [
            "blue\n"
          ]
        }
      ],
      "source": [
        "name = \"Alice\"\n",
        "age = 25\n",
        "favourite_colour = \"blue\"\n",
        "\n",
        "print(favourite_colour)"
      ]
    },
    {
      "cell_type": "code",
      "source": [
        "Get the user to input their name.\n",
        "\n",
        "  my_name = input(\"what is your name?\")\n",
        "\n",
        "Use the my_name data to output a pleasant greeting.\n",
        "\n",
        "  print(my_name,\"nice to meet you!\")\n",
        "\n",
        "Get the user to input their favourite colour\n",
        "\n",
        "  my_fav_colour = input(\"What's your favourite colour? :)\")\n",
        "\n",
        "  print(\"Wow, my favourite colour is\", my_fav_colour, \"too\")"
      ],
      "metadata": {
        "colab": {
          "base_uri": "https://localhost:8080/"
        },
        "id": "HbZJZxooRLrF",
        "outputId": "c809b573-c9c3-41d7-b56d-1e22a67258e9"
      },
      "execution_count": 10,
      "outputs": [
        {
          "output_type": "stream",
          "name": "stdout",
          "text": [
            "what is your name?James\n",
            "James nice to meet you!\n",
            "What's your favourite colour? :)blue\n",
            "Wow, my favourite colour is blue too\n"
          ]
        }
      ]
    }
  ]
}