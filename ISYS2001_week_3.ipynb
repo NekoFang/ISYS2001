{
  "nbformat": 4,
  "nbformat_minor": 0,
  "metadata": {
    "colab": {
      "provenance": [],
      "authorship_tag": "ABX9TyO7GL6LrW3/+W2LrkAmiq/v",
      "include_colab_link": true
    },
    "kernelspec": {
      "name": "python3",
      "display_name": "Python 3"
    },
    "language_info": {
      "name": "python"
    }
  },
  "cells": [
    {
      "cell_type": "markdown",
      "metadata": {
        "id": "view-in-github",
        "colab_type": "text"
      },
      "source": [
        "<a href=\"https://colab.research.google.com/github/NekoFang/ISYS2001/blob/main/ISYS2001_week_3.ipynb\" target=\"_parent\"><img src=\"https://colab.research.google.com/assets/colab-badge.svg\" alt=\"Open In Colab\"/></a>"
      ]
    },
    {
      "cell_type": "code",
      "execution_count": 6,
      "metadata": {
        "colab": {
          "base_uri": "https://localhost:8080/"
        },
        "id": "Ro2hj8yEnHsj",
        "outputId": "1dba84ed-3f68-4773-f8e0-5b3f2587438f"
      },
      "outputs": [
        {
          "output_type": "stream",
          "name": "stdout",
          "text": [
            "Weather Menu:\n",
            "1. Temperature\n",
            "2. Humidity\n",
            "3. Wind Speed\n",
            "4. Back\n",
            "Please input your choice 1-4\n",
            "1\n",
            "you chose 1\n",
            "The weather is warm at the moment\n"
          ]
        }
      ],
      "source": [
        "# Display weather menu options\n",
        "print(\"Weather Menu:\")\n",
        "print(\"1. Temperature\")\n",
        "print(\"2. Humidity\")\n",
        "print(\"3. Wind Speed\")\n",
        "print(\"4. Back\")\n",
        "\n",
        "# Get user to input the menu number to learn about the specific menu item\n",
        "print(\"Please input your choice 1-4\")\n",
        "menu_choice = input()\n",
        "print(\"you chose\", menu_choice)\n",
        "\n",
        "# Use if and elif statements to determine what menu they want to enter\n",
        "if menu_choice == \"1\":\n",
        "  print(\"You chose to check the Temperature\")\n",
        "elif menu_choice == \"2\":\n",
        "  print(\"You chose to check the Humidity\")\n",
        "elif menu_choice == \"3\":\n",
        "  print(\"You chose to check the Wind Speed\")\n",
        "elif menu_choice == \"4\":\n",
        "  print(\"Exiting menu\")\n",
        "else:\n",
        "  print(\"Invalid menu choice please select a valid option\")\n"
      ]
    },
    {
      "cell_type": "code",
      "source": [
        "## Activity 2\n",
        "\n",
        "# Simulate user choice and presume the output from earlier code is 1\n",
        "menu_choice = \"1\"\n",
        "print(\"User selected option:\", menu_choice)\n",
        "\n",
        "# Get user to input the current temperature as a number\n",
        "print(\"What is the current temperature?\")\n",
        "temp_input = input()\n",
        "temperature = int(temp_input)\n",
        "\n",
        "# Provide a weather forecast based on the temperature inputted\n",
        "if temperature < 5:\n",
        "  print(\"It is freezing outside, I would reccomend to stay home\")\n",
        "elif 5<= temperature < 15:\n",
        "  print(\"It is chilly outside bring a jacket\")\n",
        "elif 15<= temperature <25:\n",
        "  print(\"It is great weather outside please enjoy it!\")\n",
        "elif 25<= temperature <45:\n",
        "  print(\"It is hot outside please wear sunscreen\")\n",
        "else:\n",
        "  print(\"Where are you living hell????\")"
      ],
      "metadata": {
        "colab": {
          "base_uri": "https://localhost:8080/"
        },
        "id": "hy1oTQHCsJCA",
        "outputId": "cb2c4906-eb1c-4f60-bfb6-b8c976b0da0f"
      },
      "execution_count": 14,
      "outputs": [
        {
          "output_type": "stream",
          "name": "stdout",
          "text": [
            "User selected option: 1\n",
            "What is the current temperature?\n",
            "50\n",
            "Where are you living hell????\n"
          ]
        }
      ]
    }
  ]
}