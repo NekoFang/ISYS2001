{
  "cells": [
    {
      "cell_type": "markdown",
      "metadata": {
        "id": "view-in-github",
        "colab_type": "text"
      },
      "source": [
        "<a href=\"https://colab.research.google.com/github/NekoFang/ISYS2001/blob/main/James.Duong_weatherwise_notebook.ipynb\" target=\"_parent\"><img src=\"https://colab.research.google.com/assets/colab-badge.svg\" alt=\"Open In Colab\"/></a>"
      ]
    },
    {
      "cell_type": "markdown",
      "id": "72e78a05",
      "metadata": {
        "id": "72e78a05"
      },
      "source": [
        "# 🌦️ WeatherWise – Starter Notebook\n",
        "\n",
        "Welcome to your **WeatherWise** project notebook! This scaffold is designed to help you build your weather advisor app using Python, visualisations, and AI-enhanced development.\n",
        "\n",
        "---\n",
        "\n",
        "📄 **Full Assignment Specification**  \n",
        "See [`ASSIGNMENT.md`](ASSIGNMENT.md) or check the LMS for full details.\n",
        "\n",
        "📝 **Quick Refresher**  \n",
        "A one-page summary is available in [`resources/assignment-summary.md`](resources/assignment-summary.md).\n",
        "\n",
        "---\n",
        "\n",
        "🧠 **This Notebook Structure is Optional**  \n",
        "You’re encouraged to reorganise, rename sections, or remove scaffold cells if you prefer — as long as your final version meets the requirements.\n",
        "\n",
        "✅ You may delete this note before submission.\n",
        "\n"
      ]
    },
    {
      "cell_type": "markdown",
      "id": "fa8c7f6c",
      "metadata": {
        "id": "fa8c7f6c"
      },
      "source": [
        "## 🧰 Setup and Imports\n",
        "\n",
        "This section imports commonly used packages and installs any additional tools used in the project.\n",
        "\n",
        "- You may not need all of these unless you're using specific features (e.g. visualisations, advanced prompting).\n",
        "- The notebook assumes the following packages are **pre-installed** in the provided environment or installable via pip:\n",
        "  - `requests`, `matplotlib`, `pyinputplus`\n",
        "  - `fetch-my-weather` (for accessing weather data easily)\n",
        "  - `hands-on-ai` (for AI logging, comparisons, or prompting tools)\n",
        "\n",
        "If you're running this notebook in **Google Colab**, uncomment the following lines to install the required packages.\n"
      ]
    },
    {
      "cell_type": "code",
      "execution_count": null,
      "id": "70c3f3f1",
      "metadata": {
        "id": "70c3f3f1",
        "collapsed": true
      },
      "outputs": [],
      "source": [
        "# 🧪 Optional packages — uncomment if needed in Colab or JupyterHub\n",
        "!pip install pyinputplus\n",
        "!pip install matplotlib"
      ]
    },
    {
      "cell_type": "code",
      "source": [
        "import os\n",
        "\n",
        "os.environ['HANDS_ON_AI_SERVER'] = 'http://ollama.serveur.au'\n",
        "os.environ['HANDS_ON_AI_MODEL'] = 'granite3.2'\n",
        "os.environ['HANDS_ON_AI_API_KEY'] = input('Enter your API key: ')"
      ],
      "metadata": {
        "id": "B2JKlJfrGgIb"
      },
      "id": "B2JKlJfrGgIb",
      "execution_count": null,
      "outputs": []
    },
    {
      "cell_type": "markdown",
      "id": "59ae7543",
      "metadata": {
        "id": "59ae7543"
      },
      "source": [
        "## 📦 Setup and Configuration\n",
        "Import required packages and setup environment."
      ]
    },
    {
      "cell_type": "code",
      "execution_count": null,
      "id": "f1dd051e",
      "metadata": {
        "id": "f1dd051e"
      },
      "outputs": [],
      "source": [
        "import requests\n",
        "import matplotlib.pyplot as plt\n",
        "import pyinputplus as pyip\n",
        "# ✅ Import after installing (if needed)\n",
        "\n",
        "\n",
        "# Add any other setup code here"
      ]
    },
    {
      "cell_type": "markdown",
      "id": "f736ade3",
      "metadata": {
        "id": "f736ade3"
      },
      "source": [
        "## 🌤️ Weather Data Functions"
      ]
    },
    {
      "cell_type": "code",
      "execution_count": null,
      "id": "7a2c7cd0",
      "metadata": {
        "id": "7a2c7cd0"
      },
      "outputs": [],
      "source": [
        "# Define get_weather_data() function here\n",
        "def get_weather_data(location, forecast_days=5):\n",
        "    \"\"\"\n",
        "    Retrieve weather data for a specified location.\n",
        "\n",
        "    Args:\n",
        "        location (str): City or location name\n",
        "        forecast_days (int): Number of days to forecast (1-5)\n",
        "\n",
        "    Returns:\n",
        "        dict: Weather data including current conditions and forecast\n",
        "    \"\"\"\n",
        "    pass"
      ]
    },
    {
      "cell_type": "markdown",
      "id": "8a744fdc",
      "metadata": {
        "id": "8a744fdc"
      },
      "source": [
        "## 📊 Visualisation Functions"
      ]
    },
    {
      "cell_type": "code",
      "execution_count": null,
      "id": "9dc3bf85",
      "metadata": {
        "id": "9dc3bf85"
      },
      "outputs": [],
      "source": [
        "# Define create_temperature_visualisation() and create_precipitation_visualisation() here\n",
        "def create_temperature_visualisation(weather_data, output_type='display'):\n",
        "    \"\"\"\n",
        "    Create visualisation of temperature data.\n",
        "\n",
        "    Args:\n",
        "        weather_data (dict): The processed weather data\n",
        "        output_type (str): Either 'display' to show in notebook or 'figure' to return the figure\n",
        "\n",
        "    Returns:\n",
        "        If output_type is 'figure', returns the matplotlib figure object\n",
        "        Otherwise, displays the visualisation in the notebook\n",
        "    \"\"\"\n",
        "    pass\n"
      ]
    },
    {
      "cell_type": "code",
      "source": [
        "import requests\n",
        "import matplotlib.pyplot as plt\n",
        "from datetime import datetime\n",
        "\n",
        "def fetch_weather_data(location):\n",
        "    \"\"\"Fetch JSON weather data for the given location from wttr.in.\"\"\"\n",
        "    url = f\"https://wttr.in/{location}?format=j1\"\n",
        "    try:\n",
        "        response = requests.get(url, timeout=10)\n",
        "        response.raise_for_status()\n",
        "        return response.json()\n",
        "    except requests.RequestException as e:\n",
        "        print(f\"[Error] Could not fetch weather data: {e}\")\n",
        "        return None\n",
        "\n",
        "def extract_temperatures(data, days=3):\n",
        "    \"\"\"\n",
        "    From the wttr.in JSON, pull out the temperatures at\n",
        "    morning (09:00), noon (12:00), evening (18:00), night (21:00)\n",
        "    for up to `days` days.\n",
        "    \"\"\"\n",
        "    time_map = {\n",
        "        'morning': '900',\n",
        "        'noon':    '1200',\n",
        "        'evening': '1800',\n",
        "        'night':   '2100'\n",
        "    }\n",
        "    dates = []\n",
        "    temps = {label: [] for label in time_map}\n",
        "\n",
        "    for day in data.get('weather', [])[:days]:\n",
        "        dates.append(datetime.strptime(day['date'], \"%Y-%m-%d\").date())\n",
        "        hourly = day.get('hourly', [])\n",
        "        for label, t in time_map.items():\n",
        "            entry = next((h for h in hourly if h.get('time') == t), None)\n",
        "            temps[label].append(int(entry['tempC']) if entry else None)\n",
        "\n",
        "    return dates, temps\n",
        "\n",
        "def plot_temperature_trend(location, days=3):\n",
        "    \"\"\"Fetch, extract and plot the temperature trend.\"\"\"\n",
        "    data = fetch_weather_data(location)\n",
        "    if not data:\n",
        "        return\n",
        "\n",
        "    dates, temps = extract_temperatures(data, days)\n",
        "    # Create day-of-week labels for the x-axis\n",
        "    day_labels = [d.strftime(\"%a\") for d in dates]\n",
        "\n",
        "    plt.figure()\n",
        "    for label, values in temps.items():\n",
        "        plt.plot(day_labels, values, label=label, alpha=0.5)  # 50% transparency\n",
        "    plt.title(f\"{location} {days}-Day Temperature Trend\")\n",
        "    plt.xlabel(\"Day\")\n",
        "    plt.ylabel(\"Temperature (°C)\")\n",
        "    plt.legend()\n",
        "    plt.grid(True)\n",
        "    plt.tight_layout()\n",
        "    plt.show()\n",
        "\n",
        "if __name__ == \"__main__\":\n",
        "    loc = input(\"Enter location (e.g., London): \")\n",
        "    plot_temperature_trend(loc)\n"
      ],
      "metadata": {
        "id": "AU4lKW_spx1Y"
      },
      "id": "AU4lKW_spx1Y",
      "execution_count": null,
      "outputs": []
    },
    {
      "cell_type": "code",
      "source": [
        "import requests\n",
        "import matplotlib.pyplot as plt\n",
        "import matplotlib.dates as mdates\n",
        "from datetime import datetime\n",
        "\n",
        "def fetch_weather_data(location):\n",
        "    \"\"\"Fetch JSON weather data for the given location from wttr.in.\"\"\"\n",
        "    url = f\"https://wttr.in/{location}?format=j1\"\n",
        "    try:\n",
        "        response = requests.get(url, timeout=10)\n",
        "        response.raise_for_status()\n",
        "        return response.json()\n",
        "    except requests.RequestException as e:\n",
        "        print(f\"[Error] Could not fetch weather data: {e}\")\n",
        "        return None\n",
        "\n",
        "def extract_sequential_temperatures(data, days=3):\n",
        "    \"\"\"\n",
        "    Build a sequential time series of temperatures at 6am, 12pm, 6pm, and midnight\n",
        "    across `days` days, including the midnight entry at the end of each day.\n",
        "    \"\"\"\n",
        "    time_codes = ['600', '1200', '1800', '0']\n",
        "    datetimes = []\n",
        "    temps = []\n",
        "    weather_days = data.get('weather', [])[:days]\n",
        "\n",
        "    for i, day in enumerate(weather_days):\n",
        "        date_str = day['date']\n",
        "        hourly = day.get('hourly', [])\n",
        "        for code in time_codes:\n",
        "            if code == '0':  # midnight belongs to the next day\n",
        "                if i + 1 < len(weather_days):\n",
        "                    next_date = weather_days[i + 1]['date']\n",
        "                    dt = datetime.strptime(f\"{next_date} 0000\", \"%Y-%m-%d %H%M\")\n",
        "                    entry = next((h for h in weather_days[i + 1]['hourly'] if h.get('time') == '0'), None)\n",
        "                else:\n",
        "                    continue\n",
        "            else:\n",
        "                dt = datetime.strptime(f\"{date_str} {code.zfill(4)}\", \"%Y-%m-%d %H%M\")\n",
        "                entry = next((h for h in hourly if h.get('time') == code), None)\n",
        "            if entry:\n",
        "                datetimes.append(dt)\n",
        "                temps.append(int(entry['tempC']))\n",
        "\n",
        "    return datetimes, temps\n",
        "\n",
        "def plot_sequential_temperature_trend(location, days=3):\n",
        "    data = fetch_weather_data(location)\n",
        "    if not data:\n",
        "        return\n",
        "\n",
        "    times, temperatures = extract_sequential_temperatures(data, days)\n",
        "\n",
        "    fig, ax = plt.subplots()\n",
        "    ax.plot(times, temperatures, marker='o', alpha=0.5)\n",
        "    ax.set_title(f\"{location} {days}-Day Sequential Temperature\")\n",
        "    ax.set_ylabel(\"Temperature (°C)\")\n",
        "    ax.set_xticks(times)\n",
        "    ax.xaxis.set_major_formatter(mdates.DateFormatter('%d %I%p'))\n",
        "    fig.autofmt_xdate()\n",
        "    ax.grid(True)\n",
        "    plt.tight_layout()\n",
        "    plt.show()\n",
        "\n",
        "if __name__ == \"__main__\":\n",
        "    loc = input(\"Enter location (e.g., Perth): \")\n",
        "    plot_sequential_temperature_trend(loc)\n"
      ],
      "metadata": {
        "id": "KBHDQ3GmyPdE",
        "outputId": "eedc8d2e-f282-40a6-c81c-6ccf0ea4d18a",
        "colab": {
          "base_uri": "https://localhost:8080/",
          "height": 504
        }
      },
      "id": "KBHDQ3GmyPdE",
      "execution_count": 2,
      "outputs": [
        {
          "name": "stdout",
          "output_type": "stream",
          "text": [
            "Enter location (e.g., Perth): Perth\n"
          ]
        },
        {
          "output_type": "display_data",
          "data": {
            "text/plain": [
              "<Figure size 640x480 with 1 Axes>"
            ],
            "image/png": "[encoded data removed]"
          },
          "metadata": {}
        }
      ]
    },
    {
      "cell_type": "code",
      "source": [
        "\n",
        "def create_precipitation_visualisation(weather_data, output_type='display'):\n",
        "    \"\"\"\n",
        "    Create visualisation of precipitation data.\n",
        "\n",
        "    Args:\n",
        "        weather_data (dict): The processed weather data\n",
        "        output_type (str): Either 'display' to show in notebook or 'figure' to return the figure\n",
        "\n",
        "    Returns:\n",
        "        If output_type is 'figure', returns the matplotlib figure object\n",
        "        Otherwise, displays the visualisation in the notebook\n",
        "    \"\"\"\n",
        "    pass"
      ],
      "metadata": {
        "id": "HpOlQylYG5Ho"
      },
      "id": "HpOlQylYG5Ho",
      "execution_count": null,
      "outputs": []
    },
    {
      "cell_type": "markdown",
      "id": "9f95d160",
      "metadata": {
        "id": "9f95d160"
      },
      "source": [
        "## 🤖 Natural Language Processing"
      ]
    },
    {
      "cell_type": "code",
      "execution_count": null,
      "id": "bcc5833e",
      "metadata": {
        "id": "bcc5833e"
      },
      "outputs": [],
      "source": [
        "# Define parse_weather_question() and generate_weather_response() here\n",
        "def parse_weather_question(question):\n",
        "    \"\"\"\n",
        "    Parse a natural language weather question.\n",
        "\n",
        "    Args:\n",
        "        question (str): User's weather-related question\n",
        "\n",
        "    Returns:\n",
        "        dict: Extracted information including location, time period, and weather attribute\n",
        "    \"\"\"\n",
        "    pass"
      ]
    },
    {
      "cell_type": "markdown",
      "id": "0d85225e",
      "metadata": {
        "id": "0d85225e"
      },
      "source": [
        "## 🧭 User Interface"
      ]
    },
    {
      "cell_type": "code",
      "execution_count": null,
      "id": "fa6cb0f6",
      "metadata": {
        "id": "fa6cb0f6"
      },
      "outputs": [],
      "source": [
        "# Define menu functions using pyinputplus or ipywidgets here"
      ]
    },
    {
      "cell_type": "markdown",
      "id": "d643a53c",
      "metadata": {
        "id": "d643a53c"
      },
      "source": [
        "## 🧩 Main Application Logic"
      ]
    },
    {
      "cell_type": "code",
      "execution_count": null,
      "id": "a9e2e805",
      "metadata": {
        "id": "a9e2e805"
      },
      "outputs": [],
      "source": [
        "# Tie everything together here\n",
        "def generate_weather_response(parsed_question, weather_data):\n",
        "    \"\"\"\n",
        "    Generate a natural language response to a weather question.\n",
        "\n",
        "    Args:\n",
        "        parsed_question (dict): Parsed question data\n",
        "        weather_data (dict): Weather data\n",
        "\n",
        "    Returns:\n",
        "        str: Natural language response\n",
        "    \"\"\"\n",
        "    pass"
      ]
    },
    {
      "cell_type": "markdown",
      "id": "fde44479",
      "metadata": {
        "id": "fde44479"
      },
      "source": [
        "## 🧪 Testing and Examples"
      ]
    },
    {
      "cell_type": "code",
      "execution_count": 1,
      "id": "4e573901",
      "metadata": {
        "id": "4e573901"
      },
      "outputs": [],
      "source": []
    },
    {
      "cell_type": "markdown",
      "id": "d2885880",
      "metadata": {
        "id": "d2885880"
      },
      "source": [
        "## 🗂️ AI Prompting Log (Optional)\n",
        "V1. Capable of gathering weather data from wttr.in with data input\n",
        "\n",
        "v2. Added looping process without needing to restart code\n",
        "\n",
        "v3. Added displaying geograhical location and the time at which the data was gathered\n",
        "\n",
        "v4. Changed from universal time to AWST to make it more accessible\n",
        "\n",
        "v5. Added temperature visualisation for specific time trends\n",
        "\n",
        "v6. Changed from 5 to 3 day spread, x label changed to only display the day e.g. (28th), and made lines slightly transparent in order to view overlapping data better\n",
        "\n",
        "v7. Added temperature visualisation for sequential/continuous time"
      ]
    },
    {
      "cell_type": "markdown",
      "source": [
        "# 💻Current Working Code"
      ],
      "metadata": {
        "id": "YxTKuTHucl-e"
      },
      "id": "YxTKuTHucl-e"
    },
    {
      "cell_type": "code",
      "source": [
        "import requests\n",
        "import pyinputplus as pyip\n",
        "from datetime import datetime, timedelta, timezone\n",
        "\n",
        "def convert_observation_time_manual_perth(observation_time_utc_str):\n",
        "    \"\"\"\n",
        "    Converts UTC time string (e.g., '03:03 AM') to AWST (UTC+8) manually.\n",
        "    \"\"\"\n",
        "    try:\n",
        "        # Step 1: Parse the time string into a time object\n",
        "        obs_time = datetime.strptime(observation_time_utc_str, \"%I:%M %p\").time()\n",
        "\n",
        "        # Step 2: Combine with today's date (UTC)\n",
        "        obs_datetime_utc = datetime.combine(datetime.utcnow().date(), obs_time)\n",
        "\n",
        "        # Step 3: Manually add 8 hours for AWST (UTC+8)\n",
        "        obs_awst = obs_datetime_utc + timedelta(hours=8)\n",
        "\n",
        "        # Step 4: Return formatted string with AWST label\n",
        "        return obs_awst.strftime(\"%I:%M %p (AWST)\")\n",
        "    except Exception as e:\n",
        "        return f\"[Time Conversion Error: {e}]\"\n",
        "\n",
        "def get_weather_data(location):\n",
        "    \"\"\"\n",
        "    Fetches weather data from wttr.in for the given location.\n",
        "    \"\"\"\n",
        "    url = f\"https://wttr.in/{location}?format=j1\"\n",
        "    try:\n",
        "        response = requests.get(url, timeout=10)\n",
        "        response.raise_for_status()\n",
        "        return response.json()\n",
        "    except requests.RequestException as e:\n",
        "        print(f\"[Error] Could not fetch weather data: {e}\")\n",
        "        return None\n",
        "\n",
        "def display_weather(location):\n",
        "    \"\"\"\n",
        "    Displays current weather and a 3-day forecast for the location.\n",
        "    Also shows location and observation time (AWST).\n",
        "    \"\"\"\n",
        "    data = get_weather_data(location)\n",
        "    if not data:\n",
        "        return\n",
        "\n",
        "    # --- Extract Location Info ---\n",
        "    area = data['nearest_area'][0]['areaName'][0]['value']\n",
        "    region = data['nearest_area'][0]['region'][0]['value']\n",
        "    country = data['nearest_area'][0]['country'][0]['value']\n",
        "\n",
        "    print(f\"\\nWeather for: {area}, {region}, {country}\")\n",
        "    print(\"-\" * 50)\n",
        "\n",
        "    # --- Current Conditions ---\n",
        "    current = data['current_condition'][0]\n",
        "    observation_time = current['observation_time']\n",
        "    local_obs_time = convert_observation_time_manual_perth(observation_time)\n",
        "\n",
        "    print(f\"Current Temp: {current['temp_C']}°C\")\n",
        "    print(f\"Condition: {current['weatherDesc'][0]['value']}\")\n",
        "    print(f\"Data last updated at: {local_obs_time}\\n\")\n",
        "\n",
        "    # --- 3-Day Forecast ---\n",
        "    days = data['weather'][:3]\n",
        "    for day in days:\n",
        "        date = day['date']\n",
        "        maxtemp = day['maxtempC']\n",
        "        mintemp = day['mintempC']\n",
        "        rain_chance = day['hourly'][4]['chanceofrain']\n",
        "        print(f\"Date: {date}\")\n",
        "        print(f\"High: {maxtemp}°C, Low: {mintemp}°C, Rain: {rain_chance}%\\n\")\n",
        "\n",
        "def main():\n",
        "    \"\"\"\n",
        "    Main loop that keeps asking for locations until user exits.\n",
        "    \"\"\"\n",
        "    print(\"🌤️ Welcome to Weather Advisor!\")\n",
        "\n",
        "    while True:\n",
        "        location = input(\"\\nEnter a location to view the weather: \")\n",
        "        display_weather(location)\n",
        "\n",
        "        repeat = pyip.inputMenu([\"Yes\", \"No\"], prompt=\"Would you like to check another location?\\n\", numbered=True)\n",
        "        if repeat == \"No\":\n",
        "            print(\"Thank you for using Weather Advisor! Stay safe! ☔\")\n",
        "            break\n",
        "\n",
        "if __name__ == \"__main__\":\n",
        "    main()"
      ],
      "metadata": {
        "id": "anWqqO2Vc2it"
      },
      "id": "anWqqO2Vc2it",
      "execution_count": null,
      "outputs": []
    }
  ],
  "metadata": {
    "language_info": {
      "name": "python"
    },
    "colab": {
      "provenance": [],
      "toc_visible": true,
      "include_colab_link": true
    },
    "kernelspec": {
      "name": "python3",
      "display_name": "Python 3"
    }
  },
  "nbformat": 4,
  "nbformat_minor": 5
}