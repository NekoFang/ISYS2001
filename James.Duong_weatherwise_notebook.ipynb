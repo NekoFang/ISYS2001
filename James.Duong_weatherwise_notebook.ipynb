{
  "cells": [
    {
      "cell_type": "markdown",
      "metadata": {
        "id": "view-in-github",
        "colab_type": "text"
      },
      "source": [
        "<a href=\"https://colab.research.google.com/github/NekoFang/ISYS2001/blob/main/James.Duong_weatherwise_notebook.ipynb\" target=\"_parent\"><img src=\"https://colab.research.google.com/assets/colab-badge.svg\" alt=\"Open In Colab\"/></a>"
      ]
    },
    {
      "cell_type": "markdown",
      "id": "72e78a05",
      "metadata": {
        "id": "72e78a05"
      },
      "source": [
        "# 🌦️ WeatherWise – Starter Notebook\n",
        "\n",
        "Welcome to your **WeatherWise** project notebook! This scaffold is designed to help you build your weather advisor app using Python, visualisations, and AI-enhanced development.\n",
        "\n",
        "---\n",
        "\n",
        "📄 **Full Assignment Specification**  \n",
        "See [`ASSIGNMENT.md`](ASSIGNMENT.md) or check the LMS for full details.\n",
        "\n",
        "📝 **Quick Refresher**  \n",
        "A one-page summary is available in [`resources/assignment-summary.md`](resources/assignment-summary.md).\n",
        "\n",
        "---\n",
        "\n",
        "🧠 **This Notebook Structure is Optional**  \n",
        "You’re encouraged to reorganise, rename sections, or remove scaffold cells if you prefer — as long as your final version meets the requirements.\n",
        "\n",
        "✅ You may delete this note before submission.\n",
        "\n"
      ]
    },
    {
      "cell_type": "markdown",
      "id": "fa8c7f6c",
      "metadata": {
        "id": "fa8c7f6c"
      },
      "source": [
        "## 🧰 Setup and Imports\n",
        "\n",
        "This section imports commonly used packages and installs any additional tools used in the project.\n",
        "\n",
        "- You may not need all of these unless you're using specific features (e.g. visualisations, advanced prompting).\n",
        "- The notebook assumes the following packages are **pre-installed** in the provided environment or installable via pip:\n",
        "  - `requests`, `matplotlib`, `pyinputplus`\n",
        "  - `fetch-my-weather` (for accessing weather data easily)\n",
        "  - `hands-on-ai` (for AI logging, comparisons, or prompting tools)\n",
        "\n",
        "If you're running this notebook in **Google Colab**, uncomment the following lines to install the required packages.\n"
      ]
    },
    {
      "cell_type": "code",
      "execution_count": 8,
      "id": "70c3f3f1",
      "metadata": {
        "id": "70c3f3f1",
        "collapsed": true,
        "colab": {
          "base_uri": "https://localhost:8080/"
        },
        "outputId": "73a08816-8fc3-4352-fa7a-d83d4cfdf07a"
      },
      "outputs": [
        {
          "output_type": "stream",
          "name": "stdout",
          "text": [
            "Collecting pyinputplus\n",
            "  Downloading PyInputPlus-0.2.12.tar.gz (20 kB)\n",
            "  Installing build dependencies ... \u001b[?25l\u001b[?25hdone\n",
            "  Getting requirements to build wheel ... \u001b[?25l\u001b[?25hdone\n",
            "  Preparing metadata (pyproject.toml) ... \u001b[?25l\u001b[?25hdone\n",
            "Collecting pysimplevalidate>=0.2.7 (from pyinputplus)\n",
            "  Downloading PySimpleValidate-0.2.12.tar.gz (22 kB)\n",
            "  Installing build dependencies ... \u001b[?25l\u001b[?25hdone\n",
            "  Getting requirements to build wheel ... \u001b[?25l\u001b[?25hdone\n",
            "  Preparing metadata (pyproject.toml) ... \u001b[?25l\u001b[?25hdone\n",
            "Collecting stdiomask>=0.0.3 (from pyinputplus)\n",
            "  Downloading stdiomask-0.0.6.tar.gz (3.6 kB)\n",
            "  Installing build dependencies ... \u001b[?25l\u001b[?25hdone\n",
            "  Getting requirements to build wheel ... \u001b[?25l\u001b[?25hdone\n",
            "  Preparing metadata (pyproject.toml) ... \u001b[?25l\u001b[?25hdone\n",
            "Building wheels for collected packages: pyinputplus, pysimplevalidate, stdiomask\n",
            "  Building wheel for pyinputplus (pyproject.toml) ... \u001b[?25l\u001b[?25hdone\n",
            "  Created wheel for pyinputplus: filename=pyinputplus-0.2.12-py3-none-any.whl size=11348 sha256=aa42de133e56bad5941c90beb3308fa4058a6f6d553b11ac7f4d4a42bc5bbc51\n",
            "  Stored in directory: /root/.cache/pip/wheels/a3/6b/89/3bec14288af8e0729d088fb41a785e583d49e772f2529c7676\n",
            "  Building wheel for pysimplevalidate (pyproject.toml) ... \u001b[?25l\u001b[?25hdone\n",
            "  Created wheel for pysimplevalidate: filename=pysimplevalidate-0.2.12-py3-none-any.whl size=16225 sha256=92a4738ccf94846af62dc20bbff945064cff037d5b933c47a2f4c39e9973fa4d\n",
            "  Stored in directory: /root/.cache/pip/wheels/fc/40/7a/4d3b2dc2e80b4b3bbda89eec94fcefd6c8bd1101cc7bb89554\n",
            "  Building wheel for stdiomask (pyproject.toml) ... \u001b[?25l\u001b[?25hdone\n",
            "  Created wheel for stdiomask: filename=stdiomask-0.0.6-py3-none-any.whl size=3358 sha256=1b4ad02b940a42ef07269eda670e4c16e5a67b02c05416d095d4c779966cbba5\n",
            "  Stored in directory: /root/.cache/pip/wheels/19/0c/90/5ee0da7cf06ff7e233f273063797785d5eabf0ab9f04220866\n",
            "Successfully built pyinputplus pysimplevalidate stdiomask\n",
            "Installing collected packages: stdiomask, pysimplevalidate, pyinputplus\n",
            "Successfully installed pyinputplus-0.2.12 pysimplevalidate-0.2.12 stdiomask-0.0.6\n",
            "Requirement already satisfied: matplotlib in /usr/local/lib/python3.11/dist-packages (3.10.0)\n",
            "Requirement already satisfied: contourpy>=1.0.1 in /usr/local/lib/python3.11/dist-packages (from matplotlib) (1.3.2)\n",
            "Requirement already satisfied: cycler>=0.10 in /usr/local/lib/python3.11/dist-packages (from matplotlib) (0.12.1)\n",
            "Requirement already satisfied: fonttools>=4.22.0 in /usr/local/lib/python3.11/dist-packages (from matplotlib) (4.58.0)\n",
            "Requirement already satisfied: kiwisolver>=1.3.1 in /usr/local/lib/python3.11/dist-packages (from matplotlib) (1.4.8)\n",
            "Requirement already satisfied: numpy>=1.23 in /usr/local/lib/python3.11/dist-packages (from matplotlib) (2.0.2)\n",
            "Requirement already satisfied: packaging>=20.0 in /usr/local/lib/python3.11/dist-packages (from matplotlib) (24.2)\n",
            "Requirement already satisfied: pillow>=8 in /usr/local/lib/python3.11/dist-packages (from matplotlib) (11.2.1)\n",
            "Requirement already satisfied: pyparsing>=2.3.1 in /usr/local/lib/python3.11/dist-packages (from matplotlib) (3.2.3)\n",
            "Requirement already satisfied: python-dateutil>=2.7 in /usr/local/lib/python3.11/dist-packages (from matplotlib) (2.9.0.post0)\n",
            "Requirement already satisfied: six>=1.5 in /usr/local/lib/python3.11/dist-packages (from python-dateutil>=2.7->matplotlib) (1.17.0)\n"
          ]
        }
      ],
      "source": [
        "# 🧪 Optional packages — uncomment if needed in Colab or JupyterHub\n",
        "!pip install pyinputplus\n",
        "!pip install matplotlib"
      ]
    },
    {
      "cell_type": "code",
      "source": [
        "import os\n",
        "\n",
        "os.environ['HANDS_ON_AI_SERVER'] = 'http://ollama.serveur.au'\n",
        "os.environ['HANDS_ON_AI_MODEL'] = 'granite3.2'\n",
        "os.environ['HANDS_ON_AI_API_KEY'] = input('Enter your API key: ')"
      ],
      "metadata": {
        "id": "B2JKlJfrGgIb"
      },
      "id": "B2JKlJfrGgIb",
      "execution_count": null,
      "outputs": []
    },
    {
      "cell_type": "markdown",
      "id": "59ae7543",
      "metadata": {
        "id": "59ae7543"
      },
      "source": [
        "## 📦 Setup and Configuration\n",
        "Import required packages and setup environment."
      ]
    },
    {
      "cell_type": "code",
      "execution_count": null,
      "id": "f1dd051e",
      "metadata": {
        "id": "f1dd051e"
      },
      "outputs": [],
      "source": [
        "import requests\n",
        "import matplotlib.pyplot as plt\n",
        "import pyinputplus as pyip\n",
        "# ✅ Import after installing (if needed)\n",
        "\n",
        "\n",
        "# Add any other setup code here"
      ]
    },
    {
      "cell_type": "markdown",
      "id": "f736ade3",
      "metadata": {
        "id": "f736ade3"
      },
      "source": [
        "## 🌤️ Weather Data Functions"
      ]
    },
    {
      "cell_type": "code",
      "execution_count": null,
      "id": "7a2c7cd0",
      "metadata": {
        "id": "7a2c7cd0"
      },
      "outputs": [],
      "source": [
        "# Define get_weather_data() function here\n",
        "def get_weather_data(location, forecast_days=5):\n",
        "    \"\"\"\n",
        "    Retrieve weather data for a specified location.\n",
        "\n",
        "    Args:\n",
        "        location (str): City or location name\n",
        "        forecast_days (int): Number of days to forecast (1-5)\n",
        "\n",
        "    Returns:\n",
        "        dict: Weather data including current conditions and forecast\n",
        "    \"\"\"\n",
        "    pass"
      ]
    },
    {
      "cell_type": "markdown",
      "id": "8a744fdc",
      "metadata": {
        "id": "8a744fdc"
      },
      "source": [
        "## 📊 Visualisation Functions"
      ]
    },
    {
      "cell_type": "code",
      "execution_count": null,
      "id": "9dc3bf85",
      "metadata": {
        "id": "9dc3bf85"
      },
      "outputs": [],
      "source": [
        "# Define create_temperature_visualisation() and create_precipitation_visualisation() here\n",
        "def create_temperature_visualisation(weather_data, output_type='display'):\n",
        "    \"\"\"\n",
        "    Create visualisation of temperature data.\n",
        "\n",
        "    Args:\n",
        "        weather_data (dict): The processed weather data\n",
        "        output_type (str): Either 'display' to show in notebook or 'figure' to return the figure\n",
        "\n",
        "    Returns:\n",
        "        If output_type is 'figure', returns the matplotlib figure object\n",
        "        Otherwise, displays the visualisation in the notebook\n",
        "    \"\"\"\n",
        "    pass\n"
      ]
    },
    {
      "cell_type": "code",
      "source": [
        "\n",
        "def create_precipitation_visualisation(weather_data, output_type='display'):\n",
        "    \"\"\"\n",
        "    Create visualisation of precipitation data.\n",
        "\n",
        "    Args:\n",
        "        weather_data (dict): The processed weather data\n",
        "        output_type (str): Either 'display' to show in notebook or 'figure' to return the figure\n",
        "\n",
        "    Returns:\n",
        "        If output_type is 'figure', returns the matplotlib figure object\n",
        "        Otherwise, displays the visualisation in the notebook\n",
        "    \"\"\"\n",
        "    pass"
      ],
      "metadata": {
        "id": "HpOlQylYG5Ho"
      },
      "id": "HpOlQylYG5Ho",
      "execution_count": null,
      "outputs": []
    },
    {
      "cell_type": "markdown",
      "id": "9f95d160",
      "metadata": {
        "id": "9f95d160"
      },
      "source": [
        "## 🤖 Natural Language Processing"
      ]
    },
    {
      "cell_type": "code",
      "execution_count": null,
      "id": "bcc5833e",
      "metadata": {
        "id": "bcc5833e"
      },
      "outputs": [],
      "source": [
        "# Define parse_weather_question() and generate_weather_response() here\n",
        "def parse_weather_question(question):\n",
        "    \"\"\"\n",
        "    Parse a natural language weather question.\n",
        "\n",
        "    Args:\n",
        "        question (str): User's weather-related question\n",
        "\n",
        "    Returns:\n",
        "        dict: Extracted information including location, time period, and weather attribute\n",
        "    \"\"\"\n",
        "    pass"
      ]
    },
    {
      "cell_type": "markdown",
      "id": "0d85225e",
      "metadata": {
        "id": "0d85225e"
      },
      "source": [
        "## 🧭 User Interface"
      ]
    },
    {
      "cell_type": "code",
      "execution_count": null,
      "id": "fa6cb0f6",
      "metadata": {
        "id": "fa6cb0f6"
      },
      "outputs": [],
      "source": [
        "# Define menu functions using pyinputplus or ipywidgets here"
      ]
    },
    {
      "cell_type": "markdown",
      "id": "d643a53c",
      "metadata": {
        "id": "d643a53c"
      },
      "source": [
        "## 🧩 Main Application Logic"
      ]
    },
    {
      "cell_type": "code",
      "execution_count": null,
      "id": "a9e2e805",
      "metadata": {
        "id": "a9e2e805"
      },
      "outputs": [],
      "source": [
        "# Tie everything together here\n",
        "def generate_weather_response(parsed_question, weather_data):\n",
        "    \"\"\"\n",
        "    Generate a natural language response to a weather question.\n",
        "\n",
        "    Args:\n",
        "        parsed_question (dict): Parsed question data\n",
        "        weather_data (dict): Weather data\n",
        "\n",
        "    Returns:\n",
        "        str: Natural language response\n",
        "    \"\"\"\n",
        "    pass"
      ]
    },
    {
      "cell_type": "markdown",
      "id": "fde44479",
      "metadata": {
        "id": "fde44479"
      },
      "source": [
        "## 🧪 Testing and Examples"
      ]
    },
    {
      "cell_type": "code",
      "execution_count": null,
      "id": "4e573901",
      "metadata": {
        "id": "4e573901"
      },
      "outputs": [],
      "source": []
    },
    {
      "cell_type": "markdown",
      "id": "d2885880",
      "metadata": {
        "id": "d2885880"
      },
      "source": [
        "## 🗂️ AI Prompting/Change Log (Optional)\n",
        "V1. Capable of gathering weather data from wttr.in with data input\n",
        "\n",
        "v2. Added looping process without needing to restart code\n",
        "\n",
        "v3. Added displaying geograhical location and the time at which the data was gathered\n",
        "\n",
        "v4. Changed from universal time to AWST to make it more accessible\n",
        "\n",
        "v5. Added temperature visualisation for specific time trends\n",
        "\n",
        "v6. Changed from 5 to 3 day spread, x label changed to only display the day e.g. (28th), and made lines slightly transparent in order to view overlapping data better\n",
        "\n",
        "v7. Added temperature visualisation for sequential/continuous time\n",
        "\n",
        "v8. Changed so that the separated visualisations are now shown together after inputting location\n",
        "\n",
        "v9. Added precipitation visualisation for sequential/continuous time\n",
        "\n",
        "v10. Added elaborate menu as well as natural language parsing\n",
        "\n",
        "v11. Changed main code to include temperature visualisations\n",
        "\n",
        "v12. Changed main code to include precipitation visualisations\n",
        "\n",
        "v13. Changed intent qualifiers to include more words, and added a back input from any menu point\n",
        "\n",
        "v14. the addition of the back button had unintentionally created a softlock where you couldnt naturally exit the application, therefore an additional input guarantees the menu reappears\n",
        "\n",
        "v15. Optimised the code to the"
      ]
    },
    {
      "cell_type": "markdown",
      "source": [
        "# 💻Final Working Code"
      ],
      "metadata": {
        "id": "YxTKuTHucl-e"
      },
      "id": "YxTKuTHucl-e"
    },
    {
      "cell_type": "code",
      "source": [
        "import requests\n",
        "import pyinputplus as pyip\n",
        "import matplotlib.pyplot as plt\n",
        "import matplotlib.dates as mdates\n",
        "from datetime import datetime, timedelta\n",
        "import re\n",
        "\n",
        "# Convert UTC to\n",
        "def convert_observation_time_manual_perth(observation_time_utc_str):\n",
        "    try:\n",
        "        obs_time = datetime.strptime(observation_time_utc_str, \"%I:%M %p\").time()\n",
        "        obs_datetime_utc = datetime.combine(datetime.utcnow().date(), obs_time)\n",
        "        obs_awst = obs_datetime_utc + timedelta(hours=8)\n",
        "        return obs_awst.strftime(\"%I:%M %p (AWST)\")\n",
        "    except Exception as e:\n",
        "        return f\"[Time Conversion Error: {e}]\"\n",
        "\n",
        "def get_weather_data(location):\n",
        "    \"\"\"\n",
        "    Fetches weather data from wttr.in for the given location.\n",
        "    \"\"\"\n",
        "    url = f\"https://wttr.in/{location}?format=j1\"\n",
        "    try:\n",
        "        response = requests.get(url, timeout=10)\n",
        "        response.raise_for_status()\n",
        "        return response.json()\n",
        "    except requests.RequestException as e:\n",
        "        print(f\"[Error] Could not fetch weather data: {e}\")\n",
        "        return None\n",
        "\n",
        "def display_weather(location):\n",
        "    \"\"\"\n",
        "    Displays current weather and a 5-day forecast for the location.\n",
        "    \"\"\"\n",
        "    data = get_weather_data(location)\n",
        "    if not data:\n",
        "        return\n",
        "\n",
        "    # Extract location info\n",
        "    area = data['nearest_area'][0]['areaName'][0]['value']\n",
        "    region = data['nearest_area'][0]['region'][0]['value']\n",
        "    country = data['nearest_area'][0]['country'][0]['value']\n",
        "\n",
        "    print(f\"\\nWeather for: {area}, {region}, {country}\")\n",
        "    print(\"-\" * 50)\n",
        "\n",
        "    current = data['current_condition'][0]\n",
        "    observation_time = current['observation_time']\n",
        "    local_obs_time = convert_observation_time_manual_perth(observation_time)\n",
        "\n",
        "    print(f\"Current Temp: {current['temp_C']}°C\")\n",
        "    print(f\"Condition: {current['weatherDesc'][0]['value']}\")\n",
        "    print(f\"Data last updated at: {local_obs_time}\\n\")\n",
        "\n",
        "    # Forecast\n",
        "    days = data['weather'][:5]\n",
        "    for day in days:\n",
        "        date = day['date']\n",
        "        maxtemp = day['maxtempC']\n",
        "        mintemp = day['mintempC']\n",
        "        rain_chance = day['hourly'][4]['chanceofrain']\n",
        "        print(f\"Date: {date}\")\n",
        "        print(f\"High: {maxtemp}°C, Low: {mintemp}°C, Rain: {rain_chance}%\\n\")\n",
        "\n",
        "# --- Temperature Visualisations ---\n",
        "# Extract data from location to plot in 2 different data visualisations\n",
        "\n",
        "# Uses the time code to plot the location's temperature data based on parts of the day\n",
        "\n",
        "def extract_temperatures(data, days=3):\n",
        "    time_map = {'morning':'900', 'noon':'1200', 'evening':'1800', 'night':'2100'}\n",
        "    dates, temps = [], {k:[] for k in time_map}\n",
        "    for day in data.get('weather', [])[:days]:\n",
        "        dates.append(datetime.strptime(day['date'], \"%Y-%m-%d\").date())\n",
        "        hourly = day.get('hourly', [])\n",
        "        for label, code in time_map.items():\n",
        "            entry = next((h for h in hourly if h['time']==code), None)\n",
        "            temps[label].append(int(entry['tempC']) if entry else None)\n",
        "    return dates, temps\n",
        "\n",
        "def plot_by_day(dates, temps, location):\n",
        "    labels = [d.strftime(\"%a\") for d in dates]\n",
        "    plt.figure()\n",
        "    for period, vals in temps.items():\n",
        "        plt.plot(labels, vals, label=period, alpha=0.5)\n",
        "    plt.title(f\"{location} 3-Day Temperature at key Times of Day\")\n",
        "    plt.xlabel(\"Day\")\n",
        "    plt.ylabel(\"Temperature (°C)\")\n",
        "    plt.legend()\n",
        "    plt.grid(True)\n",
        "    plt.tight_layout()\n",
        "    plt.show()\n",
        "\n",
        "# Uses the time code to plot the location's temperature data in series\n",
        "def extract_sequential(data, days=3):\n",
        "    time_codes = ['600','1200','1800','0']\n",
        "    datetimes, temps = [], []\n",
        "    weather_days = data.get('weather', [])[:days]\n",
        "    for i, day in enumerate(weather_days):\n",
        "        for code in time_codes:\n",
        "            if code == '0':\n",
        "                if i+1 < len(weather_days):\n",
        "                    next_day = weather_days[i+1]\n",
        "                    dt = datetime.strptime(f\"{next_day['date']} 0000\", \"%Y-%m-%d %H%M\")\n",
        "                    entry = next((h for h in next_day['hourly'] if h['time']=='0'), None)\n",
        "                else:\n",
        "                    continue\n",
        "            else:\n",
        "                dt = datetime.strptime(f\"{day['date']} {code.zfill(4)}\", \"%Y-%m-%d %H%M\")\n",
        "                entry = next((h for h in day['hourly'] if h['time']==code), None)\n",
        "            if entry:\n",
        "                datetimes.append(dt)\n",
        "                temps.append(int(entry['tempC']))\n",
        "    return datetimes, temps\n",
        "\n",
        "def plot_sequential(times, temps, location):\n",
        "    fig, ax = plt.subplots()\n",
        "    ax.plot(times, temps, marker='o', alpha=0.5)\n",
        "    ax.set_title(f\"{location} 3-Day Temperature in Series\")\n",
        "    ax.set_ylabel(\"Temperature (°C)\")\n",
        "    ax.xaxis.set_major_formatter(mdates.DateFormatter('%d %I%p'))\n",
        "    ax.set_xticks(times)\n",
        "    fig.autofmt_xdate()\n",
        "    ax.grid(True)\n",
        "    plt.tight_layout()\n",
        "    plt.show()\n",
        "\n",
        "def show_temperature_charts(location):\n",
        "    \"\"\"\n",
        "    Calls both temperature chart types using fetched weather data.\n",
        "    \"\"\"\n",
        "    data = get_weather_data(location)\n",
        "    if not data:\n",
        "        print(\"[Error] Could not load data for temperature chart.\")\n",
        "        return\n",
        "\n",
        "    dates, temps_day = extract_temperatures(data, days=3)\n",
        "    plot_by_day(dates, temps_day, location)\n",
        "\n",
        "    times, temps_seq = extract_sequential(data, days=3)\n",
        "    plot_sequential(times, temps_seq, location)\n",
        "\n",
        "# --- Precipitation Visualisation ---\n",
        "# Extract precipitation data from location to put in a 3 hour interval time series graph\n",
        "\n",
        "import matplotlib.pyplot as plt\n",
        "import matplotlib.dates as mdates\n",
        "from datetime import datetime\n",
        "\n",
        "def extract_precipitation_timeseries(data, days=3):\n",
        "    \"\"\"\n",
        "    Builds a full 3-day time series of rain chance at 3-hour intervals.\n",
        "    \"\"\"\n",
        "    datetimes = []\n",
        "    rain_chances = []\n",
        "\n",
        "    weather_days = data.get('weather', [])[:days]\n",
        "\n",
        "    for day in weather_days:\n",
        "        date = day['date']\n",
        "        for hour_entry in day['hourly']:\n",
        "            time_code = hour_entry['time'].zfill(4)  # e.g., '300' → '0300'\n",
        "            dt = datetime.strptime(f\"{date} {time_code}\", \"%Y-%m-%d %H%M\")\n",
        "            datetimes.append(dt)\n",
        "            rain_chances.append(int(hour_entry.get('chanceofrain', 0)))\n",
        "\n",
        "    return datetimes, rain_chances\n",
        "\n",
        "def plot_precipitation_timeseries(times, rain_chances, location):\n",
        "    \"\"\"\n",
        "    Plots a full 3-day time series of precipitation chance.\n",
        "    \"\"\"\n",
        "    fig, ax = plt.subplots()\n",
        "    ax.plot(times, rain_chances, marker='o', color='blue', alpha=0.6)\n",
        "    ax.set_title(f\"{location.title()} 3-Day Rain Chance (3-Hour Intervals)\")\n",
        "    ax.set_ylabel(\"Chance of Rain (%)\")\n",
        "    ax.set_xlabel(\"Time\")\n",
        "    ax.xaxis.set_major_formatter(mdates.DateFormatter('%d %I%p'))\n",
        "    ax.set_xticks(times)\n",
        "    fig.autofmt_xdate()\n",
        "    ax.grid(True)\n",
        "    plt.tight_layout()\n",
        "    plt.show()\n",
        "\n",
        "def show_precipitation_chart(location, days=3):\n",
        "    \"\"\"\n",
        "    Fetches data and shows precipitation time series chart for the given location.\n",
        "    \"\"\"\n",
        "    data = get_weather_data(location)\n",
        "    if not data:\n",
        "        print(\"[Error] Could not load weather data.\")\n",
        "        return\n",
        "\n",
        "    times, rain_chances = extract_precipitation_timeseries(data, days)\n",
        "    plot_precipitation_timeseries(times, rain_chances, location)\n",
        "\n",
        "# --- Natural Language Interface ---\n",
        "# loops and parses question for intent which is then used in forecasting and visualisations\n",
        "\n",
        "def parse_weather_question(question):\n",
        "    q = question.lower()\n",
        "    location = re.search(r\"in ([a-zA-Z\\s]+)\", q)\n",
        "    location = location.group(1).strip() if location else \"unknown\"\n",
        "    if any(k in q for k in [\"rain\", \"umbrella\", \"wet\"]):\n",
        "        return {\"intent\": \"rain\", \"location\": location}\n",
        "    if any(k in q for k in [\"temperature\", \"hot\", \"cold\", \"jacket\", \"sweat\"]):\n",
        "        return {\"intent\": \"temperature\", \"location\": location}\n",
        "    if \"forecast\" in q or \"weather\" in q:\n",
        "        return {\"intent\": \"forecast\", \"location\": location}\n",
        "    return {\"intent\": \"unknown\", \"location\": location}\n",
        "\n",
        "def handle_natural_language_query():\n",
        "    \"\"\"\n",
        "    Handles natural language weather questions and routes to the correct function.\n",
        "    \"\"\"\n",
        "    while True:\n",
        "        question = input(\"\\nAsk a weather-related question (or type 'back' to return to menu):\\n\").strip().lower()\n",
        "\n",
        "        if question in [\"back\", \"menu\", \"return\"]:\n",
        "            print(\"🔁 Returning to main menu.\")\n",
        "            return\n",
        "        elif question in [\"exit\", \"quit\"]:\n",
        "            print(\"👋 Exiting Weather Advisor. Stay safe!\")\n",
        "            exit()\n",
        "\n",
        "        parsed = parse_weather_question(question)\n",
        "        print(\"\\n--- Interpreted Query ---\")\n",
        "        print(f\"Intent   : {parsed['intent']}\")\n",
        "        print(f\"Location : {parsed['location']}\")\n",
        "\n",
        "        if parsed[\"location\"] == \"unknown\":\n",
        "            print(\"❌ Could not detect location. Please include 'in <location>'. Try again or type 'back'.\")\n",
        "        elif parsed[\"intent\"] == \"forecast\":\n",
        "            display_weather(parsed[\"location\"])\n",
        "        elif parsed[\"intent\"] == \"rain\":\n",
        "            show_precipitation_chart(parsed[\"location\"])\n",
        "        elif parsed[\"intent\"] == \"temperature\":\n",
        "            show_temperature_charts(parsed[\"location\"])\n",
        "        else:\n",
        "            print(\"❌ Sorry, I couldn't understand what you're asking. Try rephrasing or type 'back'.\")\n",
        "\n",
        "# --- Main Menu ---\n",
        "# Show menu options: Forecast, Temperature Visualisation, Precipitation Visualisation, Natual Language Query, and Exit\n",
        "\n",
        "def main():\n",
        "    print(\"🌤️ Welcome to the Weather Advisor!\")\n",
        "\n",
        "    while True:\n",
        "        choice = pyip.inputMenu(\n",
        "            [\"Check Forecast\", \"Temperature Visualisation\", \"Precipitation Visualisation\", \"Ask a Question\", \"Exit\"],\n",
        "            prompt=\"\\n📋 Main Menu - Choose an option:\\n\",\n",
        "            numbered=True\n",
        "        )\n",
        "\n",
        "        if choice == \"Check Forecast\":\n",
        "            location = input(\"Enter location: \")\n",
        "            display_weather(location)\n",
        "            input(\"\\n✅ Press Enter to return to menu...\")\n",
        "\n",
        "        elif choice == \"Temperature Visualisation\":\n",
        "            location = input(\"Enter location: \")\n",
        "            show_temperature_charts(location)\n",
        "            input(\"\\n✅ Press Enter to return to menu...\")\n",
        "\n",
        "        elif choice == \"Precipitation Visualisation\":\n",
        "            location = input(\"Enter location: \")\n",
        "            show_precipitation_chart(location)\n",
        "            input(\"\\n✅ Press Enter to return to menu...\")\n",
        "\n",
        "        elif choice == \"Ask a Question\":\n",
        "            handle_natural_language_query()\n",
        "\n",
        "        elif choice == \"Exit\":\n",
        "            print(\"👋 Thank you for using Weather Advisor. Stay safe!\")\n",
        "            break\n",
        "\n",
        "if __name__ == \"__main__\":\n",
        "    main()"
      ],
      "metadata": {
        "colab": {
          "base_uri": "https://localhost:8080/",
          "height": 1000
        },
        "id": "-DHeuKGckWXt",
        "outputId": "1170ca7f-8479-4936-e01b-36d5902a6454"
      },
      "id": "-DHeuKGckWXt",
      "execution_count": 28,
      "outputs": [
        {
          "output_type": "stream",
          "name": "stdout",
          "text": [
            "🌤️ Welcome to the Weather Advisor!\n",
            "\n",
            "📋 Main Menu - Choose an option:\n",
            "1. Check Forecast\n",
            "2. Temperature Visualisation\n",
            "3. Precipitation Visualisation\n",
            "4. Ask a Question\n",
            "5. Exit\n",
            "4\n",
            "\n",
            "Ask a weather-related question (or type 'back' to return to menu):\n",
            "cold in perth\n",
            "\n",
            "--- Interpreted Query ---\n",
            "Intent   : temperature\n",
            "Location : perth\n"
          ]
        },
        {
          "output_type": "display_data",
          "data": {
            "text/plain": [
              "<Figure size 640x480 with 1 Axes>"
            ],
            "image/png": "[encoded data removed]"
          },
          "metadata": {}
        },
        {
          "output_type": "display_data",
          "data": {
            "text/plain": [
              "<Figure size 640x480 with 1 Axes>"
            ],
            "image/png": "[encoded data removed]"
          },
          "metadata": {}
        },
        {
          "output_type": "stream",
          "name": "stdout",
          "text": [
            "\n",
            "Ask a weather-related question (or type 'back' to return to menu):\n",
            "\n",
            "\n",
            "--- Interpreted Query ---\n",
            "Intent   : unknown\n",
            "Location : unknown\n",
            "❌ Could not detect location. Please include 'in <location>'. Try again or type 'back'.\n",
            "\n",
            "Ask a weather-related question (or type 'back' to return to menu):\n",
            "back\n",
            "🔁 Returning to main menu.\n",
            "\n",
            "✅ Press Enter to return to menu...\n",
            "\n",
            "📋 Main Menu - Choose an option:\n",
            "1. Check Forecast\n",
            "2. Temperature Visualisation\n",
            "3. Precipitation Visualisation\n",
            "4. Ask a Question\n",
            "5. Exit\n"
          ]
        },
        {
          "output_type": "error",
          "ename": "KeyboardInterrupt",
          "evalue": "Interrupted by user",
          "traceback": [
            "\u001b[0;31m---------------------------------------------------------------------------\u001b[0m",
            "\u001b[0;31mKeyboardInterrupt\u001b[0m                         Traceback (most recent call last)",
            "\u001b[0;32m<ipython-input-28-87200ad23962>\u001b[0m in \u001b[0;36m<cell line: 0>\u001b[0;34m()\u001b[0m\n\u001b[1;32m    271\u001b[0m \u001b[0;34m\u001b[0m\u001b[0m\n\u001b[1;32m    272\u001b[0m \u001b[0;32mif\u001b[0m \u001b[0m__name__\u001b[0m \u001b[0;34m==\u001b[0m \u001b[0;34m\"__main__\"\u001b[0m\u001b[0;34m:\u001b[0m\u001b[0;34m\u001b[0m\u001b[0;34m\u001b[0m\u001b[0m\n\u001b[0;32m--> 273\u001b[0;31m     \u001b[0mmain\u001b[0m\u001b[0;34m(\u001b[0m\u001b[0;34m)\u001b[0m\u001b[0;34m\u001b[0m\u001b[0;34m\u001b[0m\u001b[0m\n\u001b[0m",
            "\u001b[0;32m<ipython-input-28-87200ad23962>\u001b[0m in \u001b[0;36mmain\u001b[0;34m()\u001b[0m\n\u001b[1;32m    241\u001b[0m \u001b[0;34m\u001b[0m\u001b[0m\n\u001b[1;32m    242\u001b[0m     \u001b[0;32mwhile\u001b[0m \u001b[0;32mTrue\u001b[0m\u001b[0;34m:\u001b[0m\u001b[0;34m\u001b[0m\u001b[0;34m\u001b[0m\u001b[0m\n\u001b[0;32m--> 243\u001b[0;31m         choice = pyip.inputMenu(\n\u001b[0m\u001b[1;32m    244\u001b[0m             \u001b[0;34m[\u001b[0m\u001b[0;34m\"Check Forecast\"\u001b[0m\u001b[0;34m,\u001b[0m \u001b[0;34m\"Temperature Visualisation\"\u001b[0m\u001b[0;34m,\u001b[0m \u001b[0;34m\"Precipitation Visualisation\"\u001b[0m\u001b[0;34m,\u001b[0m \u001b[0;34m\"Ask a Question\"\u001b[0m\u001b[0;34m,\u001b[0m \u001b[0;34m\"Exit\"\u001b[0m\u001b[0;34m]\u001b[0m\u001b[0;34m,\u001b[0m\u001b[0;34m\u001b[0m\u001b[0;34m\u001b[0m\u001b[0m\n\u001b[1;32m    245\u001b[0m             \u001b[0mprompt\u001b[0m\u001b[0;34m=\u001b[0m\u001b[0;34m\"\\n📋 Main Menu - Choose an option:\\n\"\u001b[0m\u001b[0;34m,\u001b[0m\u001b[0;34m\u001b[0m\u001b[0;34m\u001b[0m\u001b[0m\n",
            "\u001b[0;32m/usr/local/lib/python3.11/dist-packages/pyinputplus/__init__.py\u001b[0m in \u001b[0;36minputMenu\u001b[0;34m(choices, prompt, default, blank, timeout, limit, strip, allowRegexes, blockRegexes, applyFunc, postValidateApplyFunc, numbered, lettered, caseSensitive)\u001b[0m\n\u001b[1;32m    760\u001b[0m     \u001b[0mprompt\u001b[0m \u001b[0;34m+=\u001b[0m \u001b[0;34m\"\\n\"\u001b[0m\u001b[0;34m\u001b[0m\u001b[0;34m\u001b[0m\u001b[0m\n\u001b[1;32m    761\u001b[0m \u001b[0;34m\u001b[0m\u001b[0m\n\u001b[0;32m--> 762\u001b[0;31m     result = _genericInput(\n\u001b[0m\u001b[1;32m    763\u001b[0m         \u001b[0mprompt\u001b[0m\u001b[0;34m=\u001b[0m\u001b[0mprompt\u001b[0m\u001b[0;34m,\u001b[0m\u001b[0;34m\u001b[0m\u001b[0;34m\u001b[0m\u001b[0m\n\u001b[1;32m    764\u001b[0m         \u001b[0mdefault\u001b[0m\u001b[0;34m=\u001b[0m\u001b[0mdefault\u001b[0m\u001b[0;34m,\u001b[0m\u001b[0;34m\u001b[0m\u001b[0;34m\u001b[0m\u001b[0m\n",
            "\u001b[0;32m/usr/local/lib/python3.11/dist-packages/pyinputplus/__init__.py\u001b[0m in \u001b[0;36m_genericInput\u001b[0;34m(prompt, default, timeout, limit, applyFunc, validationFunc, postValidateApplyFunc, passwordMask)\u001b[0m\n\u001b[1;32m    154\u001b[0m         \u001b[0mprint\u001b[0m\u001b[0;34m(\u001b[0m\u001b[0mprompt\u001b[0m\u001b[0;34m,\u001b[0m \u001b[0mend\u001b[0m\u001b[0;34m=\u001b[0m\u001b[0;34m\"\"\u001b[0m\u001b[0;34m)\u001b[0m\u001b[0;34m\u001b[0m\u001b[0;34m\u001b[0m\u001b[0m\n\u001b[1;32m    155\u001b[0m         \u001b[0;32mif\u001b[0m \u001b[0mpasswordMask\u001b[0m \u001b[0;32mis\u001b[0m \u001b[0;32mNone\u001b[0m\u001b[0;34m:\u001b[0m\u001b[0;34m\u001b[0m\u001b[0;34m\u001b[0m\u001b[0m\n\u001b[0;32m--> 156\u001b[0;31m             \u001b[0muserInput\u001b[0m \u001b[0;34m=\u001b[0m \u001b[0minput\u001b[0m\u001b[0;34m(\u001b[0m\u001b[0;34m)\u001b[0m\u001b[0;34m\u001b[0m\u001b[0;34m\u001b[0m\u001b[0m\n\u001b[0m\u001b[1;32m    157\u001b[0m         \u001b[0;32melse\u001b[0m\u001b[0;34m:\u001b[0m\u001b[0;34m\u001b[0m\u001b[0;34m\u001b[0m\u001b[0m\n\u001b[1;32m    158\u001b[0m             \u001b[0muserInput\u001b[0m \u001b[0;34m=\u001b[0m \u001b[0mstdiomask\u001b[0m\u001b[0;34m.\u001b[0m\u001b[0mgetpass\u001b[0m\u001b[0;34m(\u001b[0m\u001b[0mprompt\u001b[0m\u001b[0;34m=\u001b[0m\u001b[0;34m\"\"\u001b[0m\u001b[0;34m,\u001b[0m \u001b[0mmask\u001b[0m\u001b[0;34m=\u001b[0m\u001b[0mpasswordMask\u001b[0m\u001b[0;34m)\u001b[0m\u001b[0;34m\u001b[0m\u001b[0;34m\u001b[0m\u001b[0m\n",
            "\u001b[0;32m/usr/local/lib/python3.11/dist-packages/ipykernel/kernelbase.py\u001b[0m in \u001b[0;36mraw_input\u001b[0;34m(self, prompt)\u001b[0m\n\u001b[1;32m   1175\u001b[0m                 \u001b[0;34m\"raw_input was called, but this frontend does not support input requests.\"\u001b[0m\u001b[0;34m\u001b[0m\u001b[0;34m\u001b[0m\u001b[0m\n\u001b[1;32m   1176\u001b[0m             )\n\u001b[0;32m-> 1177\u001b[0;31m         return self._input_request(\n\u001b[0m\u001b[1;32m   1178\u001b[0m             \u001b[0mstr\u001b[0m\u001b[0;34m(\u001b[0m\u001b[0mprompt\u001b[0m\u001b[0;34m)\u001b[0m\u001b[0;34m,\u001b[0m\u001b[0;34m\u001b[0m\u001b[0;34m\u001b[0m\u001b[0m\n\u001b[1;32m   1179\u001b[0m             \u001b[0mself\u001b[0m\u001b[0;34m.\u001b[0m\u001b[0m_parent_ident\u001b[0m\u001b[0;34m[\u001b[0m\u001b[0;34m\"shell\"\u001b[0m\u001b[0;34m]\u001b[0m\u001b[0;34m,\u001b[0m\u001b[0;34m\u001b[0m\u001b[0;34m\u001b[0m\u001b[0m\n",
            "\u001b[0;32m/usr/local/lib/python3.11/dist-packages/ipykernel/kernelbase.py\u001b[0m in \u001b[0;36m_input_request\u001b[0;34m(self, prompt, ident, parent, password)\u001b[0m\n\u001b[1;32m   1217\u001b[0m             \u001b[0;32mexcept\u001b[0m \u001b[0mKeyboardInterrupt\u001b[0m\u001b[0;34m:\u001b[0m\u001b[0;34m\u001b[0m\u001b[0;34m\u001b[0m\u001b[0m\n\u001b[1;32m   1218\u001b[0m                 \u001b[0;31m# re-raise KeyboardInterrupt, to truncate traceback\u001b[0m\u001b[0;34m\u001b[0m\u001b[0;34m\u001b[0m\u001b[0m\n\u001b[0;32m-> 1219\u001b[0;31m                 \u001b[0;32mraise\u001b[0m \u001b[0mKeyboardInterrupt\u001b[0m\u001b[0;34m(\u001b[0m\u001b[0;34m\"Interrupted by user\"\u001b[0m\u001b[0;34m)\u001b[0m \u001b[0;32mfrom\u001b[0m \u001b[0;32mNone\u001b[0m\u001b[0;34m\u001b[0m\u001b[0;34m\u001b[0m\u001b[0m\n\u001b[0m\u001b[1;32m   1220\u001b[0m             \u001b[0;32mexcept\u001b[0m \u001b[0mException\u001b[0m\u001b[0;34m:\u001b[0m\u001b[0;34m\u001b[0m\u001b[0;34m\u001b[0m\u001b[0m\n\u001b[1;32m   1221\u001b[0m                 \u001b[0mself\u001b[0m\u001b[0;34m.\u001b[0m\u001b[0mlog\u001b[0m\u001b[0;34m.\u001b[0m\u001b[0mwarning\u001b[0m\u001b[0;34m(\u001b[0m\u001b[0;34m\"Invalid Message:\"\u001b[0m\u001b[0;34m,\u001b[0m \u001b[0mexc_info\u001b[0m\u001b[0;34m=\u001b[0m\u001b[0;32mTrue\u001b[0m\u001b[0;34m)\u001b[0m\u001b[0;34m\u001b[0m\u001b[0;34m\u001b[0m\u001b[0m\n",
            "\u001b[0;31mKeyboardInterrupt\u001b[0m: Interrupted by user"
          ]
        }
      ]
    }
  ],
  "metadata": {
    "language_info": {
      "name": "python"
    },
    "colab": {
      "provenance": [],
      "toc_visible": true,
      "include_colab_link": true
    },
    "kernelspec": {
      "name": "python3",
      "display_name": "Python 3"
    }
  },
  "nbformat": 4,
  "nbformat_minor": 5
}